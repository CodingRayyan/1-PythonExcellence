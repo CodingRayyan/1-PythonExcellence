{
  "cells": [
    {
      "cell_type": "code",
      "source": [
        "# Simple Arithmetic Operations:"
      ],
      "metadata": {
        "id": "kAFqcMUYecs3"
      },
      "id": "kAFqcMUYecs3",
      "execution_count": null,
      "outputs": []
    },
    {
      "cell_type": "code",
      "execution_count": null,
      "id": "3846f019",
      "metadata": {
        "id": "3846f019",
        "outputId": "0326ddf3-95d7-46e7-e69a-09d68c6a746a"
      },
      "outputs": [
        {
          "data": {
            "text/plain": [
              "13"
            ]
          },
          "execution_count": 20,
          "metadata": {},
          "output_type": "execute_result"
        }
      ],
      "source": [
        "# Addition\n",
        "10 + 3"
      ]
    },
    {
      "cell_type": "code",
      "execution_count": null,
      "id": "fd463986",
      "metadata": {
        "id": "fd463986",
        "outputId": "5c5bceba-d684-4dc6-814a-eb0b252154f4"
      },
      "outputs": [
        {
          "data": {
            "text/plain": [
              "7"
            ]
          },
          "execution_count": 21,
          "metadata": {},
          "output_type": "execute_result"
        }
      ],
      "source": [
        "# Subtraction\n",
        "10 - 3"
      ]
    },
    {
      "cell_type": "code",
      "execution_count": null,
      "id": "3fda795e",
      "metadata": {
        "id": "3fda795e",
        "outputId": "db3e4b3f-b8cb-46e5-b690-8afff6f60257"
      },
      "outputs": [
        {
          "data": {
            "text/plain": [
              "30"
            ]
          },
          "execution_count": 22,
          "metadata": {},
          "output_type": "execute_result"
        }
      ],
      "source": [
        "# Multiplication\n",
        "10 * 3"
      ]
    },
    {
      "cell_type": "code",
      "execution_count": null,
      "id": "7f695aac",
      "metadata": {
        "id": "7f695aac",
        "outputId": "57332b82-8d5e-4743-8340-38304cc17c9e"
      },
      "outputs": [
        {
          "data": {
            "text/plain": [
              "3.3333333333333335"
            ]
          },
          "execution_count": 23,
          "metadata": {},
          "output_type": "execute_result"
        }
      ],
      "source": [
        "# Division\n",
        "10 / 3"
      ]
    },
    {
      "cell_type": "code",
      "execution_count": null,
      "id": "65299cc6",
      "metadata": {
        "id": "65299cc6",
        "outputId": "70786b8e-73bf-4ef1-a2e6-7a7b8846a993"
      },
      "outputs": [
        {
          "data": {
            "text/plain": [
              "3"
            ]
          },
          "execution_count": 27,
          "metadata": {},
          "output_type": "execute_result"
        }
      ],
      "source": [
        "# Floor Division --> It gives answer of division without decimal point i.e: 3 instead of 3.3.3333333333333335\n",
        "10 // 3\n"
      ]
    },
    {
      "cell_type": "code",
      "execution_count": null,
      "id": "e625db26",
      "metadata": {
        "id": "e625db26",
        "outputId": "d4365c42-f65b-4338-fbb7-20a36c87b127"
      },
      "outputs": [
        {
          "data": {
            "text/plain": [
              "1"
            ]
          },
          "execution_count": 25,
          "metadata": {},
          "output_type": "execute_result"
        }
      ],
      "source": [
        "# Modulus (remainder) --> It'll divide 10 by 3 and gives us the remainder which is 1\n",
        "10 % 3"
      ]
    },
    {
      "cell_type": "code",
      "execution_count": null,
      "id": "41841426",
      "metadata": {
        "id": "41841426",
        "outputId": "e3617561-5727-4b88-e3cc-1eb0d62e5d24"
      },
      "outputs": [
        {
          "data": {
            "text/plain": [
              "(10000, 8, 9)"
            ]
          },
          "execution_count": 33,
          "metadata": {},
          "output_type": "execute_result"
        }
      ],
      "source": [
        "# Exponentiation (power) --> 10 ** 4 means 10 raised to the power 4\n",
        "10 ** 4, 2 ** 3, 3 ** 2"
      ]
    },
    {
      "cell_type": "code",
      "execution_count": null,
      "id": "20b47c91",
      "metadata": {
        "id": "20b47c91"
      },
      "outputs": [],
      "source": []
    }
  ],
  "metadata": {
    "kernelspec": {
      "display_name": "Python 3 (ipykernel)",
      "language": "python",
      "name": "python3"
    },
    "language_info": {
      "codemirror_mode": {
        "name": "ipython",
        "version": 3
      },
      "file_extension": ".py",
      "mimetype": "text/x-python",
      "name": "python",
      "nbconvert_exporter": "python",
      "pygments_lexer": "ipython3",
      "version": "3.11.5"
    },
    "colab": {
      "provenance": []
    }
  },
  "nbformat": 4,
  "nbformat_minor": 5
}