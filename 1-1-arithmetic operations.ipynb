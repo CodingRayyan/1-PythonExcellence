{
 "cells": [
  {
   "cell_type": "code",
   "execution_count": 12,
   "id": "6d5ebde1",
   "metadata": {},
   "outputs": [
    {
     "data": {
      "text/plain": [
       "(2, -9, 15233.730000000001, 1.2200247218788627, 1)"
      ]
     },
     "execution_count": 12,
     "metadata": {},
     "output_type": "execute_result"
    }
   ],
   "source": [
    "1 + 1, 1 - 10, 12.345 * 1234, 987 / 809, 987 // 809"
   ]
  },
  {
   "cell_type": "code",
   "execution_count": 13,
   "id": "307b15c3",
   "metadata": {},
   "outputs": [
    {
     "data": {
      "text/plain": [
       "(0, 1, 8)"
      ]
     },
     "execution_count": 13,
     "metadata": {},
     "output_type": "execute_result"
    }
   ],
   "source": [
    "# % gives us reminder\n",
    "\n",
    "36 % 6,50 % 7,98 % 9"
   ]
  },
  {
   "cell_type": "code",
   "execution_count": 17,
   "id": "e589c7db",
   "metadata": {},
   "outputs": [
    {
     "data": {
      "text/plain": [
       "(8, 27, 833747762130149888)"
      ]
     },
     "execution_count": 17,
     "metadata": {},
     "output_type": "execute_result"
    }
   ],
   "source": [
    "2 ** 3, 3 ** 3, 98 ** 9"
   ]
  },
  {
   "cell_type": "code",
   "execution_count": null,
   "id": "3846f019",
   "metadata": {},
   "outputs": [],
   "source": []
  }
 ],
 "metadata": {
  "kernelspec": {
   "display_name": "Python 3 (ipykernel)",
   "language": "python",
   "name": "python3"
  },
  "language_info": {
   "codemirror_mode": {
    "name": "ipython",
    "version": 3
   },
   "file_extension": ".py",
   "mimetype": "text/x-python",
   "name": "python",
   "nbconvert_exporter": "python",
   "pygments_lexer": "ipython3",
   "version": "3.11.5"
  }
 },
 "nbformat": 4,
 "nbformat_minor": 5
}
